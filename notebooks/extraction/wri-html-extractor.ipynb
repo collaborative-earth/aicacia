{
 "cells": [
  {
   "cell_type": "markdown",
   "id": "f3a7f31d-989f-4a93-af66-38502811b798",
   "metadata": {},
   "source": [
    "## Install dependencies"
   ]
  },
  {
   "cell_type": "code",
   "execution_count": null,
   "id": "7e9f945a-d171-44fa-bcd0-8bc0b1879bca",
   "metadata": {},
   "outputs": [],
   "source": [
    "%load_ext autoreload\n",
    "%autoreload 2"
   ]
  },
  {
   "cell_type": "code",
   "execution_count": null,
   "id": "3b17b2b0-d25e-46ff-9ef8-5360868f01d7",
   "metadata": {},
   "outputs": [],
   "source": [
    "%pip install -e ../../extraction aicacia-document-exporter==0.1.4"
   ]
  },
  {
   "cell_type": "markdown",
   "id": "c5e14157-4652-415b-8125-040058fe4511",
   "metadata": {},
   "source": [
    "## Prepare data folder"
   ]
  },
  {
   "cell_type": "code",
   "execution_count": null,
   "id": "6cbb26c5-4a1b-4682-ba89-7c995c1c7904",
   "metadata": {},
   "outputs": [],
   "source": [
    "import os\n",
    "os.makedirs('../data/db', exist_ok=True)"
   ]
  },
  {
   "cell_type": "markdown",
   "id": "25b23d6c-f45d-486d-af8e-58694c441bba",
   "metadata": {},
   "source": [
    "## Imports"
   ]
  },
  {
   "cell_type": "code",
   "execution_count": null,
   "id": "bec3f0e6-23c1-432b-81b4-2780d50932a3",
   "metadata": {},
   "outputs": [],
   "source": [
    "from aicacia_document_exporter.Document import Document\n",
    "from aicacia_document_exporter.SimpleFileDocumentExporter import SimpleFileDocumentExporter\n",
    "\n",
    "from aicacia_extraction.sources.wri import WriSimpleExtractor"
   ]
  },
  {
   "cell_type": "markdown",
   "id": "afc1e461-c108-4d3f-b701-d951b73c0a54",
   "metadata": {},
   "source": [
    "## Run extraction (first 3 pages)"
   ]
  },
  {
   "cell_type": "code",
   "execution_count": null,
   "id": "4805e655-f35e-4139-a0f3-4728ab0fffb2",
   "metadata": {},
   "outputs": [],
   "source": [
    "extractor = WriSimpleExtractor()\n",
    "\n",
    "with SimpleFileDocumentExporter('../data/db/wri_metadata.db') as exporter:\n",
    "    for doc in extractor.extract(start_page=0, page_limit=3):\n",
    "        doc_title = doc['title']\n",
    "        doc_url = doc['url']\n",
    "        doc_doi = doc['doi']\n",
    "        doc_authors = doc['authors']\n",
    "        doc_downloadable_sources = doc['downloadable_sources']\n",
    "\n",
    "        document = Document(\n",
    "            title=doc_title,\n",
    "            sections=[],\n",
    "            source_link=doc_url,\n",
    "            doi=doc_doi,\n",
    "            authors=doc_authors,\n",
    "            metadata={\n",
    "                'downloadable_sources': doc_downloadable_sources\n",
    "            }\n",
    "        )\n",
    "\n",
    "        exporter.insert([document])"
   ]
  },
  {
   "cell_type": "code",
   "execution_count": null,
   "id": "6a902af4-d750-49ba-9726-b367c9bf8909",
   "metadata": {},
   "outputs": [],
   "source": []
  }
 ],
 "metadata": {
  "kernelspec": {
   "display_name": "Python 3 (ipykernel)",
   "language": "python",
   "name": "python3"
  },
  "language_info": {
   "codemirror_mode": {
    "name": "ipython",
    "version": 3
   },
   "file_extension": ".py",
   "mimetype": "text/x-python",
   "name": "python",
   "nbconvert_exporter": "python",
   "pygments_lexer": "ipython3",
   "version": "3.12.0"
  }
 },
 "nbformat": 4,
 "nbformat_minor": 5
}
