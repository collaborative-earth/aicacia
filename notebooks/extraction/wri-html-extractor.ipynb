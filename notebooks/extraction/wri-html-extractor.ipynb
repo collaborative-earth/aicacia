{
 "cells": [
  {
   "cell_type": "markdown",
   "id": "f3a7f31d-989f-4a93-af66-38502811b798",
   "metadata": {},
   "source": [
    "## Install dependencies"
   ]
  },
  {
   "cell_type": "code",
   "execution_count": null,
   "id": "7e9f945a-d171-44fa-bcd0-8bc0b1879bca",
   "metadata": {},
   "outputs": [],
   "source": [
    "%load_ext autoreload\n",
    "%autoreload 2"
   ]
  },
  {
   "cell_type": "code",
   "execution_count": null,
   "id": "3b17b2b0-d25e-46ff-9ef8-5360868f01d7",
   "metadata": {},
   "outputs": [],
   "source": [
    "%pip install -e ../../extraction aicacia-document-exporter==0.1.5"
   ]
  },
  {
   "cell_type": "markdown",
   "id": "25b23d6c-f45d-486d-af8e-58694c441bba",
   "metadata": {},
   "source": [
    "## Imports"
   ]
  },
  {
   "cell_type": "code",
   "execution_count": null,
   "id": "bec3f0e6-23c1-432b-81b4-2780d50932a3",
   "metadata": {},
   "outputs": [],
   "source": [
    "import os\n",
    "import time\n",
    "import json\n",
    "import glob\n",
    "from pathlib import Path\n",
    "from subprocess import Popen, PIPE, STDOUT\n",
    "from urllib.request import urlretrieve\n",
    "\n",
    "from aicacia_document_exporter.Document import Document\n",
    "from aicacia_document_exporter.PreprocessingModel import PreprocessingModel\n",
    "from aicacia_document_exporter.SimpleFileDocumentExporter import SimpleFileDocumentExporter\n",
    "\n",
    "# from marker.settings import settings\n",
    "# from marker.models import load_all_models\n",
    "# from marker.convert import convert_single_pdf\n",
    "# from marker.output import save_markdown\n",
    "\n",
    "from aicacia_extraction.sources.wri import WriSimpleExtractor"
   ]
  },
  {
   "cell_type": "markdown",
   "id": "97c071b7-7b73-494c-aee2-3a9216c8426d",
   "metadata": {},
   "source": [
    "## Configuration"
   ]
  },
  {
   "cell_type": "code",
   "execution_count": null,
   "id": "360cc025-090d-4eed-9a60-6c4638fd6e6d",
   "metadata": {},
   "outputs": [],
   "source": [
    "data_dir = '../data/db'\n",
    "db_file_name = 'wri_metadata.db'\n",
    "pdf_dir = '../data/pdf'\n",
    "md_dir = '../data/markdown'\n",
    "\n",
    "batch_size = 20\n",
    "\n",
    "# settings.EXTRACT_IMAGES = False\n",
    "os.environ[\"EXTRACT_IMAGES\"] = \"False\"\n",
    "\n",
    "os.makedirs(data_dir, exist_ok=True)\n",
    "os.makedirs(pdf_dir, exist_ok=True)\n",
    "os.makedirs(md_dir, exist_ok=True)\n",
    "\n",
    "# model_lst = load_all_models()"
   ]
  },
  {
   "cell_type": "markdown",
   "id": "0cee0759-bf54-49f0-a863-514a8df260bb",
   "metadata": {},
   "source": [
    "## Define preprocessing model"
   ]
  },
  {
   "cell_type": "code",
   "execution_count": null,
   "id": "aacda33f-db98-428c-b5ae-8c4f1fff8521",
   "metadata": {},
   "outputs": [],
   "source": [
    "class Preprocess(PreprocessingModel):\n",
    "    def preprocess_batch(self, docs: list[Document]):\n",
    "        for doc in docs:\n",
    "            pdf_sources = [source for source in doc.sources if 'application/pdf' in source]\n",
    "            \n",
    "            if pdf_sources:\n",
    "                # Take only the latest available PDF\n",
    "                pdf_source = json.loads(pdf_sources[0])['link']\n",
    "    \n",
    "                file_path = f'{pdf_dir}/{doc.id}.pdf'\n",
    "                \n",
    "                print(f'Downloading PDF source for \"{doc.title}\"') \n",
    "                urlretrieve(pdf_source, file_path)        \n",
    "                doc.metadata['file_path'] = file_path\n",
    "\n",
    "                # print(f'Converting PDF to Markdown for \"{doc.title}\"')\n",
    "                # full_text, images, out_meta = convert_single_pdf(file_path, model_lst, batch_multiplier=2)       \n",
    "                # save_markdown(md_dir, f'{doc.id}.md', full_text, images, out_meta)\n",
    "\n",
    "        if os.listdir(pdf_dir):\n",
    "            print(\"Converting PDF batch to Markdown...\")\n",
    "            with Popen([\"marker\", pdf_dir, md_dir, '--workers', '3'], stdout=PIPE, stderr=STDOUT, text=True) as proc:\n",
    "                for line in proc.stdout:\n",
    "                    print(line)\n",
    "            \n",
    "            for f in glob.glob(f'{pdf_dir}/*'):\n",
    "                os.remove(f)\n",
    "\n",
    "            for doc in docs:\n",
    "                md_result_dir = Path(f\"{md_dir}/{doc.id}\")\n",
    "                if md_result_dir.is_dir():\n",
    "                    doc.raw_content = md_result_dir.joinpath(f'{doc.id}.md').read_bytes()\n",
    "                    doc.metadata['marker_meta'] = md_result_dir.joinpath(f\"{doc.id}_meta.json\").read_text(encoding=\"utf8\")\n",
    "                "
   ]
  },
  {
   "cell_type": "markdown",
   "id": "afc1e461-c108-4d3f-b701-d951b73c0a54",
   "metadata": {},
   "source": [
    "## Run extraction (first 3 pages)"
   ]
  },
  {
   "cell_type": "code",
   "execution_count": null,
   "id": "4805e655-f35e-4139-a0f3-4728ab0fffb2",
   "metadata": {},
   "outputs": [],
   "source": [
    "start_time = time.time()\n",
    "\n",
    "extractor = WriSimpleExtractor()\n",
    "\n",
    "with SimpleFileDocumentExporter(f'{data_dir}/{db_file_name}', batch_size=batch_size, preprocessing_model=Preprocess()) as exporter:\n",
    "    for doc in extractor.extract(start_page=0, page_limit=3):\n",
    "        exporter.insert([doc])\n",
    "\n",
    "end_time = time.time()\n",
    "\n",
    "print(f'Finished extraction! Elapsed time: {end_time - start_time} sec')"
   ]
  },
  {
   "cell_type": "code",
   "execution_count": null,
   "id": "6a902af4-d750-49ba-9726-b367c9bf8909",
   "metadata": {},
   "outputs": [],
   "source": []
  }
 ],
 "metadata": {
  "kernelspec": {
   "display_name": "Python 3 (ipykernel)",
   "language": "python",
   "name": "python3"
  },
  "language_info": {
   "codemirror_mode": {
    "name": "ipython",
    "version": 3
   },
   "file_extension": ".py",
   "mimetype": "text/x-python",
   "name": "python",
   "nbconvert_exporter": "python",
   "pygments_lexer": "ipython3",
   "version": "3.12.0"
  }
 },
 "nbformat": 4,
 "nbformat_minor": 5
}
