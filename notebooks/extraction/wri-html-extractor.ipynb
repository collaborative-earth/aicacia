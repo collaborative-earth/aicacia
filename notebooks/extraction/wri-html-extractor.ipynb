{
 "cells": [
  {
   "cell_type": "markdown",
   "id": "f3a7f31d-989f-4a93-af66-38502811b798",
   "metadata": {},
   "source": [
    "## Install dependencies"
   ]
  },
  {
   "cell_type": "code",
   "execution_count": 1,
   "id": "7e9f945a-d171-44fa-bcd0-8bc0b1879bca",
   "metadata": {},
   "outputs": [],
   "source": [
    "%load_ext autoreload\n",
    "%autoreload 2"
   ]
  },
  {
   "cell_type": "code",
   "execution_count": 2,
   "id": "3b17b2b0-d25e-46ff-9ef8-5360868f01d7",
   "metadata": {},
   "outputs": [
    {
     "name": "stdout",
     "output_type": "stream",
     "text": [
      "Obtaining file:///C:/Users/grast/IdeaProjects/aicacia/extraction\n",
      "  Installing build dependencies: started\n",
      "  Installing build dependencies: finished with status 'done'\n",
      "  Checking if build backend supports build_editable: started\n",
      "  Checking if build backend supports build_editable: finished with status 'done'\n",
      "  Getting requirements to build editable: started\n",
      "  Getting requirements to build editable: finished with status 'done'\n",
      "  Preparing editable metadata (pyproject.toml): started\n",
      "  Preparing editable metadata (pyproject.toml): finished with status 'done'\n",
      "Requirement already satisfied: aicacia-document-exporter==0.1.4 in c:\\users\\grast\\appdata\\local\\programs\\python\\python312\\lib\\site-packages (0.1.4)\n",
      "Requirement already satisfied: tzlocal>=5.2 in c:\\users\\grast\\appdata\\local\\programs\\python\\python312\\lib\\site-packages (from aicacia-document-exporter==0.1.4) (5.2)\n",
      "Requirement already satisfied: beautifulsoup4>=4.12 in c:\\users\\grast\\appdata\\local\\programs\\python\\python312\\lib\\site-packages (from aicacia_extraction==0.0.1) (4.12.3)\n",
      "Requirement already satisfied: lxml>=5.3 in c:\\users\\grast\\appdata\\local\\programs\\python\\python312\\lib\\site-packages (from aicacia_extraction==0.0.1) (5.3.0)\n",
      "Requirement already satisfied: soupsieve>1.2 in c:\\users\\grast\\appdata\\local\\programs\\python\\python312\\lib\\site-packages (from beautifulsoup4>=4.12->aicacia_extraction==0.0.1) (2.6)\n",
      "Requirement already satisfied: tzdata in c:\\users\\grast\\appdata\\local\\programs\\python\\python312\\lib\\site-packages (from tzlocal>=5.2->aicacia-document-exporter==0.1.4) (2024.1)\n",
      "Building wheels for collected packages: aicacia_extraction\n",
      "  Building editable for aicacia_extraction (pyproject.toml): started\n",
      "  Building editable for aicacia_extraction (pyproject.toml): finished with status 'done'\n",
      "  Created wheel for aicacia_extraction: filename=aicacia_extraction-0.0.1-0.editable-py3-none-any.whl size=1466 sha256=5b949c32de6f60d03c1ca5512d60e5655515dcbaca927417df1c16d81912e5ed\n",
      "  Stored in directory: C:\\Users\\grast\\AppData\\Local\\Temp\\pip-ephem-wheel-cache-04k_z_jm\\wheels\\fe\\1f\\a4\\8e2b2919c835896564b46d944edc5a365fceeb6db8d9dfeb28\n",
      "Successfully built aicacia_extraction\n",
      "Installing collected packages: aicacia_extraction\n",
      "  Attempting uninstall: aicacia_extraction\n",
      "    Found existing installation: aicacia_extraction 0.0.1\n",
      "    Uninstalling aicacia_extraction-0.0.1:\n",
      "      Successfully uninstalled aicacia_extraction-0.0.1\n",
      "Successfully installed aicacia_extraction-0.0.1\n",
      "Note: you may need to restart the kernel to use updated packages.\n"
     ]
    }
   ],
   "source": [
    "%pip install -e ../../extraction aicacia-document-exporter==0.1.4"
   ]
  },
  {
   "cell_type": "markdown",
   "id": "c5e14157-4652-415b-8125-040058fe4511",
   "metadata": {},
   "source": [
    "## Prepare data folder"
   ]
  },
  {
   "cell_type": "code",
   "execution_count": 3,
   "id": "6cbb26c5-4a1b-4682-ba89-7c995c1c7904",
   "metadata": {},
   "outputs": [],
   "source": [
    "import os\n",
    "os.makedirs('../data/db', exist_ok=True)"
   ]
  },
  {
   "cell_type": "markdown",
   "id": "25b23d6c-f45d-486d-af8e-58694c441bba",
   "metadata": {},
   "source": [
    "## Imports"
   ]
  },
  {
   "cell_type": "code",
   "execution_count": 4,
   "id": "bec3f0e6-23c1-432b-81b4-2780d50932a3",
   "metadata": {},
   "outputs": [],
   "source": [
    "from aicacia_document_exporter.Document import Document\n",
    "from aicacia_document_exporter.SimpleFileDocumentExporter import SimpleFileDocumentExporter\n",
    "\n",
    "from aicacia_extraction.sources.wri import WriSimpleExtractor"
   ]
  },
  {
   "cell_type": "markdown",
   "id": "afc1e461-c108-4d3f-b701-d951b73c0a54",
   "metadata": {},
   "source": [
    "## Run extraction (first 3 pages)"
   ]
  },
  {
   "cell_type": "code",
   "execution_count": 5,
   "id": "4805e655-f35e-4139-a0f3-4728ab0fffb2",
   "metadata": {},
   "outputs": [
    {
     "name": "stdout",
     "output_type": "stream",
     "text": [
      "Extracting 20 docs from page #0...\n",
      "Extracted 1 of 20\n",
      "Extracted 2 of 20\n",
      "Extracted 3 of 20\n",
      "Extracted 4 of 20\n",
      "Extracted 5 of 20\n",
      "Extracted 6 of 20\n",
      "Extracted 7 of 20\n",
      "Extracted 8 of 20\n",
      "Extracted 9 of 20\n",
      "Extracted 10 of 20\n",
      "Extracted 11 of 20\n",
      "Extracted 12 of 20\n",
      "Extracted 13 of 20\n",
      "Extracted 14 of 20\n",
      "Extracted 15 of 20\n",
      "Extracted 16 of 20\n",
      "Extracted 17 of 20\n",
      "Extracted 18 of 20\n",
      "Extracted 19 of 20\n",
      "Extracted 20 of 20\n",
      "Extracting 20 docs from page #1...\n",
      "Extracted 1 of 20\n",
      "Extracted 2 of 20\n",
      "Extracted 3 of 20\n",
      "Extracted 4 of 20\n",
      "Extracted 5 of 20\n",
      "Extracted 6 of 20\n",
      "Extracted 7 of 20\n",
      "Extracted 8 of 20\n",
      "Extracted 9 of 20\n",
      "Extracted 10 of 20\n",
      "Extracted 11 of 20\n",
      "Extracted 12 of 20\n",
      "Extracted 13 of 20\n",
      "Extracted 14 of 20\n",
      "Extracted 15 of 20\n",
      "Extracted 16 of 20\n",
      "Extracted 17 of 20\n",
      "Extracted 18 of 20\n",
      "Extracted 19 of 20\n",
      "Extracted 20 of 20\n",
      "Extracting 20 docs from page #2...\n",
      "Extracted 1 of 20\n",
      "Extracted 2 of 20\n",
      "Extracted 3 of 20\n",
      "Extracted 4 of 20\n",
      "Extracted 5 of 20\n",
      "Extracted 6 of 20\n",
      "Extracted 7 of 20\n",
      "Extracted 8 of 20\n",
      "Extracted 9 of 20\n",
      "Extracted 10 of 20\n",
      "Extracted 11 of 20\n",
      "Extracted 12 of 20\n",
      "Extracted 13 of 20\n",
      "Extracted 14 of 20\n",
      "Extracted 15 of 20\n",
      "Extracted 16 of 20\n",
      "Extracted 17 of 20\n",
      "Extracted 18 of 20\n",
      "Extracted 19 of 20\n",
      "Extracted 20 of 20\n"
     ]
    }
   ],
   "source": [
    "extractor = WriSimpleExtractor()\n",
    "\n",
    "with SimpleFileDocumentExporter('../data/db/wri_metadata.db') as exporter:\n",
    "    for doc in extractor.extract(start_page=0, page_limit=3):\n",
    "        doc_title = doc['title']\n",
    "        doc_url = doc['url']\n",
    "        doc_doi = doc['doi']\n",
    "        doc_authors = doc['authors']\n",
    "        doc_downloadable_sources = doc['downloadable_sources']\n",
    "\n",
    "        document = Document(\n",
    "            title=doc_title,\n",
    "            sections=[],\n",
    "            source_link=doc_url,\n",
    "            doi=doc_doi,\n",
    "            authors=doc_authors,\n",
    "            metadata={\n",
    "                'downloadable_sources': doc_downloadable_sources\n",
    "            }\n",
    "        )\n",
    "\n",
    "        exporter.insert([document])"
   ]
  },
  {
   "cell_type": "code",
   "execution_count": null,
   "id": "6a902af4-d750-49ba-9726-b367c9bf8909",
   "metadata": {},
   "outputs": [],
   "source": []
  }
 ],
 "metadata": {
  "kernelspec": {
   "display_name": "Python 3 (ipykernel)",
   "language": "python",
   "name": "python3"
  },
  "language_info": {
   "codemirror_mode": {
    "name": "ipython",
    "version": 3
   },
   "file_extension": ".py",
   "mimetype": "text/x-python",
   "name": "python",
   "nbconvert_exporter": "python",
   "pygments_lexer": "ipython3",
   "version": "3.12.0"
  }
 },
 "nbformat": 4,
 "nbformat_minor": 5
}
